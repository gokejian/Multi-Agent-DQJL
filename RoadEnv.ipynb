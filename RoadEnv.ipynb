{
 "cells": [
  {
   "cell_type": "code",
   "execution_count": 1,
   "metadata": {},
   "outputs": [],
   "source": [
    "import numpy as np\n",
    "import pandas as pd\n",
    "import math \n",
    "import random "
   ]
  },
  {
   "cell_type": "markdown",
   "metadata": {},
   "source": [
    "This scripts show how to construct the road environment according to the linear kinematic models"
   ]
  },
  {
   "cell_type": "code",
   "execution_count": 2,
   "metadata": {},
   "outputs": [],
   "source": [
    "# Number of non-EMVs\n",
    "num_non_EMVs = 5"
   ]
  },
  {
   "cell_type": "code",
   "execution_count": 3,
   "metadata": {},
   "outputs": [],
   "source": [
    "# Constant of the road environments:\n",
    "# Baseline distance (unit: m)\n",
    "d_0 = 40\n",
    "# Distance threshold (unit: m)\n",
    "C = 5\n",
    "# Minimum Safety Gap (unit: m)\n",
    "d = 0.2\n",
    "# Road Length (unit: m)\n",
    "L = 20\n",
    "# Temporal Step Length (unit: s)\n",
    "delta_t = 0.5"
   ]
  },
  {
   "cell_type": "code",
   "execution_count": 4,
   "metadata": {},
   "outputs": [],
   "source": [
    "def random_deceleration(most_comfortable_deceleration, lane_pos):\n",
    "    \"\"\"\n",
    "    Generate a deceleration based on given attribute of the vehicle\n",
    "    :param most_comfortable_deceleration: the given attribute of the vehicle\n",
    "    :param lane_pos: y\n",
    "    :return: the deceleration adopted by human driver\n",
    "    \"\"\"\n",
    "    if lane_pos:\n",
    "        sigma = 0.3\n",
    "    else:\n",
    "        sigma = 0.5\n",
    "    return np.random.normal(most_comfortable_deceleration, sigma)"
   ]
  },
  {
   "cell_type": "code",
   "execution_count": 5,
   "metadata": {},
   "outputs": [],
   "source": [
    "# Generate Road Environment\n",
    "def generate_road_env_nonOO(total_num_needed=10):\n",
    "    '''\n",
    "    Use random and hashtable to implement a psuedo random initial condition, with noised gap enforced when two cars \n",
    "    are adjacent. \n",
    "    '''\n",
    "    up_total = math.floor(total_num_needed / 2) \n",
    "    low_total = total_num_needed - up_total\n",
    "    lanes_num_veh = (up_total,low_total) \n",
    "    lanes_status = [[],[]]\n",
    "    \n",
    "    env_indx = 0\n",
    "    for lane_index in range(2):  \n",
    "        spots_table = {tab_index : 0 for tab_index in range(32)} # spot = 0 - 32 total of 33 \n",
    "        cur_num_veh = 0\n",
    "        while cur_num_veh < lanes_num_veh[lane_index]:   \n",
    "            cur_pos_ok = False \n",
    "            while not cur_pos_ok:\n",
    "                rand_int = random.randint(0,31)\n",
    "                if spots_table[rand_int] == 0: \n",
    "                    spots_table[rand_int] = 1\n",
    "                    cur_pos_ok = True\n",
    "                    cur_num_veh += 1\n",
    "        mini_pos = 7\n",
    "        for tab_index in spots_table:\n",
    "            fuzz_gap = random.uniform(-1,1)\n",
    "            if spots_table[tab_index] == 1:\n",
    "                try: \n",
    "                    if(spots_table[tab_index - 1] == 1):\n",
    "                        fuzz_gap = random.uniform(-0.3,2)\n",
    "                except KeyError:\n",
    "                    pass \n",
    "                vehicle_length = np.around(np.random.normal(4.45, 0.5),2)\n",
    "                most_comfortable_deceleration = np.around(np.random.normal(1.5, 0.3),2)\n",
    "                v_0 = np.around(np.random.normal(4, 1),2)\n",
    "                a_record = [round(mini_pos + int(tab_index) * 6 + fuzz_gap,2), lane_index, \n",
    "                            vehicle_length , v_0, most_comfortable_deceleration, 0]\n",
    "                ''' can modify the parameter yourself \n",
    "                    [head_pos, lane_index, length, v_0, most_comfortable_deceleration, Yielding_indicator]\n",
    "                '''\n",
    "                lanes_status[lane_index].append(a_record)\n",
    "                env_indx += 1   \n",
    "                \n",
    "    lanes_status[0].extend(lanes_status[1])\n",
    "    return lanes_status[0]"
   ]
  },
  {
   "cell_type": "code",
   "execution_count": 6,
   "metadata": {},
   "outputs": [
    {
     "name": "stdout",
     "output_type": "stream",
     "text": [
      "A sample road environment is generated as: \n",
      "[[37.59, 0, 5.32, 5.15, 1.05, 0], [115.55, 0, 5.03, 4.78, 1.54, 0], [138.76, 0, 3.51, 2.58, 1.54, 0], [145.67, 0, 4.25, 4.22, 1.02, 0], [163.18, 0, 4.56, 4.83, 1.1, 0], [25.99, 1, 3.92, 4.43, 1.21, 0], [48.47, 1, 4.49, 4.1, 1.03, 0], [91.88, 1, 5.0, 2.98, 1.17, 0], [97.51, 1, 3.99, 3.98, 1.83, 0], [175.47, 1, 4.45, 3.57, 1.08, 0]]\n"
     ]
    }
   ],
   "source": [
    "# Test a sample road environment\n",
    "print(\"A sample road environment is generated as: \")\n",
    "print(generate_road_env_nonOO(total_num_needed=10))"
   ]
  },
  {
   "cell_type": "code",
   "execution_count": 7,
   "metadata": {},
   "outputs": [],
   "source": [
    "# Find the leading vehicle of an ego vehicle, return with leading vehicle's speed and their distance:\n",
    "def find_lead(state, vehicle):\n",
    "    ego_position = vehicle[0]\n",
    "    leading_vehs = [veh for veh in state if (veh[0] > vehicle[0] and veh[1] == vehicle[1])]\n",
    "    leading_vehs.sort(key = lambda veh: veh[0])\n",
    "    print(leading_vehs)\n",
    "    leading_vehicle = leading_vehs[0]\n",
    "    # If the given vehicle is the leading vehicle of the lane:\n",
    "    if not leading_vehicle:\n",
    "        return 1000, 0\n",
    "    return leading_vehicle[0] - leading_vehicle[2] - vehicle[0], leading_vehicle[3]\n",
    "\n",
    "test_roadEnv = generate_road_env_nonOO()\n",
    "test_veh = test_roadEnv[0]"
   ]
  },
  {
   "cell_type": "code",
   "execution_count": 8,
   "metadata": {},
   "outputs": [],
   "source": [
    "# Road Environment following the linear Kinematic Model:\n",
    "class RoadEnv:\n",
    "    def __init__(self, road_length=L, l_gap=d, step_length=delta_t):\n",
    "        self.state = mapped_state(generate.generate_road_env_nonOO())\n",
    "        self.done = False\n",
    "        self.road_length = road_length  \n",
    "        self.l_gap = l_gap  \n",
    "        self.step_length = delta_t  \n",
    "    # Reset Environment\n",
    "    def reset(self):\n",
    "        new_state = generate_road_env_nonOO()\n",
    "        self.state = new_state\n",
    "        return self.state"
   ]
  },
  {
   "cell_type": "code",
   "execution_count": 9,
   "metadata": {},
   "outputs": [],
   "source": [
    "    # Step transition following linear kinematics model:\n",
    "    def step(action):\n",
    "        for veh in self.state:\n",
    "            # [head_pos, lane_index, length, v_0, most_comfortable_deceleration, Yielding_indicator]\n",
    "            old_x = veh[0]\n",
    "            old_y = veh[1]\n",
    "            veh_length = veh[2]\n",
    "            old_v = veh[3]\n",
    "            b_star = veh[4]\n",
    "            status = veh[5]\n",
    "\n",
    "        \n",
    "            \n",
    "            "
   ]
  },
  {
   "cell_type": "code",
   "execution_count": 10,
   "metadata": {},
   "outputs": [
    {
     "ename": "ModuleNotFoundError",
     "evalue": "No module named 'pytorch'",
     "output_type": "error",
     "traceback": [
      "\u001b[1;31m---------------------------------------------------------------------------\u001b[0m",
      "\u001b[1;31mModuleNotFoundError\u001b[0m                       Traceback (most recent call last)",
      "\u001b[1;32m<ipython-input-10-d35c46f8d1a2>\u001b[0m in \u001b[0;36m<module>\u001b[1;34m\u001b[0m\n\u001b[1;32m----> 1\u001b[1;33m \u001b[1;32mimport\u001b[0m \u001b[0mpytorch\u001b[0m\u001b[1;33m\u001b[0m\u001b[1;33m\u001b[0m\u001b[0m\n\u001b[0m",
      "\u001b[1;31mModuleNotFoundError\u001b[0m: No module named 'pytorch'"
     ]
    }
   ],
   "source": []
  },
  {
   "cell_type": "code",
   "execution_count": null,
   "metadata": {},
   "outputs": [],
   "source": []
  }
 ],
 "metadata": {
  "kernelspec": {
   "display_name": "Python 3",
   "language": "python",
   "name": "python3"
  },
  "language_info": {
   "codemirror_mode": {
    "name": "ipython",
    "version": 3
   },
   "file_extension": ".py",
   "mimetype": "text/x-python",
   "name": "python",
   "nbconvert_exporter": "python",
   "pygments_lexer": "ipython3",
   "version": "3.7.4"
  }
 },
 "nbformat": 4,
 "nbformat_minor": 2
}
